{
 "cells": [
  {
   "cell_type": "markdown",
   "metadata": {
    "collapsed": true,
    "deletable": true,
    "editable": true
   },
   "source": [
    "# Language Translation\n",
    "In this project, we’re going to take a peek into the realm of neural network machine translation.  We’ll be training a sequence to sequence model on a dataset of English and French sentences that can translate new sentences from English to French.\n",
    "## Get the Data\n",
    "Since translating the whole language of English to French will take lots of time to train, we have provided we with a small portion of the English corpus."
   ]
  },
  {
   "cell_type": "code",
   "execution_count": 4,
   "metadata": {
    "collapsed": false,
    "deletable": true,
    "editable": true
   },
   "outputs": [],
   "source": [
    "import helper\n",
    "import problem_unittests as tests\n",
    "\n",
    "source_path = 'data/small_vocab_en'\n",
    "target_path = 'data/small_vocab_fr'\n",
    "source_text = helper.load_data(source_path)\n",
    "target_text = helper.load_data(target_path)"
   ]
  },
  {
   "cell_type": "markdown",
   "metadata": {
    "deletable": true,
    "editable": true
   },
   "source": [
    "## Explore the Data\n",
    "Play around with view_sentence_range to view different parts of the data."
   ]
  },
  {
   "cell_type": "code",
   "execution_count": 2,
   "metadata": {
    "collapsed": false,
    "deletable": true,
    "editable": true
   },
   "outputs": [
    {
     "name": "stdout",
     "output_type": "stream",
     "text": [
      "Dataset Stats\n",
      "Roughly the number of unique words: 227\n",
      "Number of sentences: 137861\n",
      "Average number of words in a sentence: 13.225277634719028\n",
      "\n",
      "English sentences 0 to 10:\n",
      "new jersey is sometimes quiet during autumn , and it is snowy in april .\n",
      "the united states is usually chilly during july , and it is usually freezing in november .\n",
      "california is usually quiet during march , and it is usually hot in june .\n",
      "the united states is sometimes mild during june , and it is cold in september .\n",
      "your least liked fruit is the grape , but my least liked is the apple .\n",
      "his favorite fruit is the orange , but my favorite is the grape .\n",
      "paris is relaxing during december , but it is usually chilly in july .\n",
      "new jersey is busy during spring , and it is never hot in march .\n",
      "our least liked fruit is the lemon , but my least liked is the grape .\n",
      "the united states is sometimes busy during january , and it is sometimes warm in november .\n",
      "\n",
      "French sentences 0 to 10:\n",
      "new jersey est parfois calme pendant l' automne , et il est neigeux en avril .\n",
      "les états-unis est généralement froid en juillet , et il gèle habituellement en novembre .\n",
      "california est généralement calme en mars , et il est généralement chaud en juin .\n",
      "les états-unis est parfois légère en juin , et il fait froid en septembre .\n",
      "votre moins aimé fruit est le raisin , mais mon moins aimé est la pomme .\n",
      "son fruit préféré est l'orange , mais mon préféré est le raisin .\n",
      "paris est relaxant en décembre , mais il est généralement froid en juillet .\n",
      "new jersey est occupé au printemps , et il est jamais chaude en mars .\n",
      "notre fruit est moins aimé le citron , mais mon moins aimé est le raisin .\n",
      "les états-unis est parfois occupé en janvier , et il est parfois chaud en novembre .\n"
     ]
    }
   ],
   "source": [
    "view_sentence_range = (0, 10)\n",
    "\n",
    "\n",
    "import numpy as np\n",
    "\n",
    "print('Dataset Stats')\n",
    "print('Roughly the number of unique words: {}'.format(len({word: None for word in source_text.split()})))\n",
    "\n",
    "sentences = source_text.split('\\n')\n",
    "word_counts = [len(sentence.split()) for sentence in sentences]\n",
    "print('Number of sentences: {}'.format(len(sentences)))\n",
    "print('Average number of words in a sentence: {}'.format(np.average(word_counts)))\n",
    "\n",
    "print()\n",
    "print('English sentences {} to {}:'.format(*view_sentence_range))\n",
    "print('\\n'.join(source_text.split('\\n')[view_sentence_range[0]:view_sentence_range[1]]))\n",
    "print()\n",
    "print('French sentences {} to {}:'.format(*view_sentence_range))\n",
    "print('\\n'.join(target_text.split('\\n')[view_sentence_range[0]:view_sentence_range[1]]))"
   ]
  },
  {
   "cell_type": "markdown",
   "metadata": {
    "deletable": true,
    "editable": true
   },
   "source": [
    "## Implement Preprocessing Function\n",
    "### Text to Word Ids\n",
    "As we did with other RNNs, we must turn the text into a number so the computer can understand it. In the function `text_to_ids()`, we'll turn `source_text` and `target_text` from words to ids.  However, we need to add the `<EOS>` word id at the end of each sentence from `target_text`.  This will help the neural network predict when the sentence should end.\n",
    "\n",
    "We can get the `<EOS>` word id by doing:\n",
    "```python\n",
    "target_vocab_to_int['<EOS>']\n",
    "```\n",
    "We can get other word ids using `source_vocab_to_int` and `target_vocab_to_int`."
   ]
  },
  {
   "cell_type": "code",
   "execution_count": 3,
   "metadata": {
    "collapsed": false,
    "deletable": true,
    "editable": true
   },
   "outputs": [
    {
     "name": "stdout",
     "output_type": "stream",
     "text": [
      "Tests Passed\n"
     ]
    }
   ],
   "source": [
    "def text_to_ids(source_text, target_text, source_vocab_to_int, target_vocab_to_int):\n",
    "    \"\"\"\n",
    "    Convert source and target text to proper word ids\n",
    "    :param source_text: String that contains all the source text.\n",
    "    :param target_text: String that contains all the target text.\n",
    "    :param source_vocab_to_int: Dictionary to go from the source words to an id\n",
    "    :param target_vocab_to_int: Dictionary to go from the target words to an id\n",
    "    :return: A tuple of lists (source_id_text, target_id_text)\n",
    "    \"\"\"\n",
    "    source_id_text = []\n",
    "    for text in source_text.split('\\n'):\n",
    "        id_text = []\n",
    "        for word in text.split(' '):\n",
    "            if(word == \"\"):\n",
    "                continue\n",
    "            id_text.append(source_vocab_to_int[word])\n",
    "        source_id_text.append(id_text)\n",
    "        \n",
    "    target_id_text = []\n",
    "    for text in target_text.split('\\n'):\n",
    "        id_text = []\n",
    "        for word in text.split(' '):\n",
    "            if(word == \"\"):\n",
    "                continue\n",
    "            id_text.append(target_vocab_to_int[word])\n",
    "        id_text.append(source_vocab_to_int['<EOS>'])\n",
    "        target_id_text.append(id_text)\n",
    "        \n",
    "    return source_id_text, target_id_text\n",
    "\n",
    "\n",
    "\n",
    "tests.test_text_to_ids(text_to_ids)"
   ]
  },
  {
   "cell_type": "markdown",
   "metadata": {
    "deletable": true,
    "editable": true
   },
   "source": [
    "### Preprocess all the data and save it\n",
    "Running the code cell below will preprocess all the data and save it to file."
   ]
  },
  {
   "cell_type": "code",
   "execution_count": 4,
   "metadata": {
    "collapsed": false,
    "deletable": true,
    "editable": true
   },
   "outputs": [],
   "source": [
    "helper.preprocess_and_save_data(source_path, target_path, text_to_ids)"
   ]
  },
  {
   "cell_type": "markdown",
   "metadata": {
    "deletable": true,
    "editable": true
   },
   "source": [
    "# Check Point\n",
    "This is our first checkpoint. If we ever decide to come back to this notebook or have to restart the notebook, we can start from here. The preprocessed data has been saved to disk."
   ]
  },
  {
   "cell_type": "code",
   "execution_count": 1,
   "metadata": {
    "collapsed": false,
    "deletable": true,
    "editable": true
   },
   "outputs": [],
   "source": [
    "import numpy as np\n",
    "import helper\n",
    "\n",
    "(source_int_text, target_int_text), (source_vocab_to_int, target_vocab_to_int), _ = helper.load_preprocess()"
   ]
  },
  {
   "cell_type": "markdown",
   "metadata": {
    "deletable": true,
    "editable": true
   },
   "source": [
    "### Check the Version of TensorFlow and Access to GPU\n",
    "This will check to make sure we have the correct version of TensorFlow and access to a GPU"
   ]
  },
  {
   "cell_type": "code",
   "execution_count": 2,
   "metadata": {
    "collapsed": false,
    "deletable": true,
    "editable": true
   },
   "outputs": [
    {
     "name": "stdout",
     "output_type": "stream",
     "text": [
      "TensorFlow Version: 1.0.0\n"
     ]
    },
    {
     "name": "stderr",
     "output_type": "stream",
     "text": [
      "/home/kennethshang/anaconda3/envs/dlnd-tf-lab/lib/python3.5/site-packages/ipykernel/__main__.py:14: UserWarning: No GPU found. Please use a GPU to train your neural network.\n"
     ]
    }
   ],
   "source": [
    "from distutils.version import LooseVersion\n",
    "import warnings\n",
    "import tensorflow as tf\n",
    "\n",
    "# Check TensorFlow Version\n",
    "assert LooseVersion(tf.__version__) >= LooseVersion('1.0'), 'Please use TensorFlow version 1.0 or newer'\n",
    "print('TensorFlow Version: {}'.format(tf.__version__))\n",
    "\n",
    "# Check for a GPU\n",
    "if not tf.test.gpu_device_name():\n",
    "    warnings.warn('No GPU found. Please use a GPU to train our neural network.')\n",
    "else:\n",
    "    print('Default GPU Device: {}'.format(tf.test.gpu_device_name()))"
   ]
  },
  {
   "cell_type": "markdown",
   "metadata": {
    "deletable": true,
    "editable": true
   },
   "source": [
    "## Build the Neural Network\n",
    "We'll build the components necessary to build a Sequence-to-Sequence model by implementing the following functions below:\n",
    "- `model_inputs`\n",
    "- `process_encoding_input`\n",
    "- `encoding_layer`\n",
    "- `decoding_layer_train`\n",
    "- `decoding_layer_infer`\n",
    "- `decoding_layer`\n",
    "- `seq2seq_model`\n",
    "\n",
    "### Input\n",
    "Implement the `model_inputs()` function to create TF Placeholders for the Neural Network. It should create the following placeholders:\n",
    "\n",
    "- Input text placeholder named \"input\" using the TF Placeholder name parameter with rank 2.\n",
    "- Targets placeholder with rank 2.\n",
    "- Learning rate placeholder with rank 0.\n",
    "- Keep probability placeholder named \"keep_prob\" using the TF Placeholder name parameter with rank 0.\n",
    "\n",
    "Return the placeholders in the following the tuple (Input, Targets, Learing Rate, Keep Probability)"
   ]
  },
  {
   "cell_type": "code",
   "execution_count": 5,
   "metadata": {
    "collapsed": false,
    "deletable": true,
    "editable": true
   },
   "outputs": [
    {
     "name": "stdout",
     "output_type": "stream",
     "text": [
      "Tests Passed\n"
     ]
    }
   ],
   "source": [
    "def model_inputs():\n",
    "    \"\"\"\n",
    "    Create TF Placeholders for input, targets, and learning rate.\n",
    "    :return: Tuple (input, targets, learning rate, keep probability)\n",
    "    \"\"\"\n",
    "    Input = tf.placeholder(tf.int32, [None, None], name=\"input\")\n",
    "    Targets = tf.placeholder(tf.int32, [None, None])\n",
    "    Learning_rate = tf.placeholder(tf.float32,)\n",
    "    keep_prob = tf.placeholder(tf.float32, name=\"keep_prob\")\n",
    "    return Input, Targets, Learning_rate, keep_prob\n",
    "\n",
    "\n",
    "tests.test_model_inputs(model_inputs)"
   ]
  },
  {
   "cell_type": "markdown",
   "metadata": {
    "deletable": true,
    "editable": true
   },
   "source": [
    "### Process Decoding Input\n",
    "Implement `process_decoding_input` using TensorFlow to remove the last word id from each batch in `target_data` and concat the GO ID to the begining of each batch."
   ]
  },
  {
   "cell_type": "code",
   "execution_count": 6,
   "metadata": {
    "collapsed": false,
    "deletable": true,
    "editable": true
   },
   "outputs": [
    {
     "name": "stdout",
     "output_type": "stream",
     "text": [
      "Tests Passed\n"
     ]
    }
   ],
   "source": [
    "def process_decoding_input(target_data, target_vocab_to_int, batch_size):\n",
    "    \"\"\"\n",
    "    Preprocess target data for dencoding\n",
    "    :param target_data: Target Placehoder\n",
    "    :param target_vocab_to_int: Dictionary to go from the target words to an id\n",
    "    :param batch_size: Batch Size\n",
    "    :return: Preprocessed target data\n",
    "    \"\"\"\n",
    "    ending = tf.strided_slice(target_data, [0, 0], [batch_size, -1], [1, 1])\n",
    "    dec_input = tf.concat([tf.fill([batch_size, 1], target_vocab_to_int['<GO>']), ending], 1)\n",
    "    return dec_input\n",
    "\n",
    "\n",
    "tests.test_process_decoding_input(process_decoding_input)"
   ]
  },
  {
   "cell_type": "markdown",
   "metadata": {
    "deletable": true,
    "editable": true
   },
   "source": [
    "### Encoding\n",
    "Implement `encoding_layer()` to create a Encoder RNN layer using [`tf.nn.dynamic_rnn()`](https://www.tensorflow.org/api_docs/python/tf/nn/dynamic_rnn)."
   ]
  },
  {
   "cell_type": "code",
   "execution_count": 7,
   "metadata": {
    "collapsed": false,
    "deletable": true,
    "editable": true
   },
   "outputs": [
    {
     "name": "stdout",
     "output_type": "stream",
     "text": [
      "Tests Passed\n"
     ]
    }
   ],
   "source": [
    "def encoding_layer(rnn_inputs, rnn_size, num_layers, keep_prob):\n",
    "    \"\"\"\n",
    "    Create encoding layer\n",
    "    :param rnn_inputs: Inputs for the RNN\n",
    "    :param rnn_size: RNN Size\n",
    "    :param num_layers: Number of layers\n",
    "    :param keep_prob: Dropout keep probability\n",
    "    :return: RNN state\n",
    "    \"\"\"\n",
    "    # Encoder\n",
    "    rnn = tf.contrib.rnn.BasicLSTMCell(rnn_size)\n",
    "    drop = tf.contrib.rnn.DropoutWrapper(rnn, output_keep_prob = keep_prob)\n",
    "    enc_cell = tf.contrib.rnn.MultiRNNCell([drop] * num_layers)\n",
    "    _, enc_state = tf.nn.dynamic_rnn(enc_cell, rnn_inputs, dtype=tf.float32)\n",
    "    \n",
    "    return enc_state\n",
    "\n",
    "\n",
    "tests.test_encoding_layer(encoding_layer)"
   ]
  },
  {
   "cell_type": "markdown",
   "metadata": {
    "deletable": true,
    "editable": true
   },
   "source": [
    "### Decoding - Training\n",
    "Create training logits using [`tf.contrib.seq2seq.simple_decoder_fn_train()`](https://www.tensorflow.org/api_docs/python/tf/contrib/seq2seq/simple_decoder_fn_train) and [`tf.contrib.seq2seq.dynamic_rnn_decoder()`](https://www.tensorflow.org/api_docs/python/tf/contrib/seq2seq/dynamic_rnn_decoder).  Apply the `output_fn` to the [`tf.contrib.seq2seq.dynamic_rnn_decoder()`](https://www.tensorflow.org/api_docs/python/tf/contrib/seq2seq/dynamic_rnn_decoder) outputs."
   ]
  },
  {
   "cell_type": "code",
   "execution_count": 8,
   "metadata": {
    "collapsed": false,
    "deletable": true,
    "editable": true
   },
   "outputs": [
    {
     "name": "stdout",
     "output_type": "stream",
     "text": [
      "Tests Passed\n"
     ]
    }
   ],
   "source": [
    "def decoding_layer_train(encoder_state, dec_cell, dec_embed_input, sequence_length, decoding_scope,\n",
    "                         output_fn, keep_prob):\n",
    "    \"\"\"\n",
    "    Create a decoding layer for training\n",
    "    :param encoder_state: Encoder State\n",
    "    :param dec_cell: Decoder RNN Cell\n",
    "    :param dec_embed_input: Decoder embedded input\n",
    "    :param sequence_length: Sequence Length\n",
    "    :param decoding_scope: TenorFlow Variable Scope for decoding\n",
    "    :param output_fn: Function to apply the output layer\n",
    "    :param keep_prob: Dropout keep probability\n",
    "    :return: Train Logits\n",
    "    \"\"\"      \n",
    "    train_decoder_fn = tf.contrib.seq2seq.simple_decoder_fn_train(encoder_state)\n",
    "    train_pred, _, _ = tf.contrib.seq2seq.dynamic_rnn_decoder(\n",
    "        dec_cell, train_decoder_fn, dec_embed_input, sequence_length, scope=decoding_scope)\n",
    "    \n",
    "    train_logits =  output_fn(train_pred)\n",
    "    return train_logits\n",
    "\n",
    "\n",
    "\n",
    "tests.test_decoding_layer_train(decoding_layer_train)"
   ]
  },
  {
   "cell_type": "markdown",
   "metadata": {
    "deletable": true,
    "editable": true
   },
   "source": [
    "### Decoding - Inference\n",
    "Create inference logits using [`tf.contrib.seq2seq.simple_decoder_fn_inference()`](https://www.tensorflow.org/api_docs/python/tf/contrib/seq2seq/simple_decoder_fn_inference) and [`tf.contrib.seq2seq.dynamic_rnn_decoder()`](https://www.tensorflow.org/api_docs/python/tf/contrib/seq2seq/dynamic_rnn_decoder). "
   ]
  },
  {
   "cell_type": "code",
   "execution_count": 9,
   "metadata": {
    "collapsed": false,
    "deletable": true,
    "editable": true
   },
   "outputs": [
    {
     "name": "stdout",
     "output_type": "stream",
     "text": [
      "Tests Passed\n"
     ]
    }
   ],
   "source": [
    "def decoding_layer_infer(encoder_state, dec_cell, dec_embeddings, start_of_sequence_id, end_of_sequence_id,\n",
    "                         maximum_length, vocab_size, decoding_scope, output_fn, keep_prob):\n",
    "    \"\"\"\n",
    "    Create a decoding layer for inference\n",
    "    :param encoder_state: Encoder state\n",
    "    :param dec_cell: Decoder RNN Cell\n",
    "    :param dec_embeddings: Decoder embeddings\n",
    "    :param start_of_sequence_id: GO ID\n",
    "    :param end_of_sequence_id: EOS Id\n",
    "    :param maximum_length: Maximum length of \n",
    "    :param vocab_size: Size of vocabulary\n",
    "    :param decoding_scope: TensorFlow Variable Scope for decoding\n",
    "    :param output_fn: Function to apply the output layer\n",
    "    :param keep_prob: Dropout keep probability\n",
    "    :return: Inference Logits\n",
    "    \"\"\"\n",
    "    infer_decoder_fn = tf.contrib.seq2seq.simple_decoder_fn_inference(\n",
    "        output_fn, encoder_state, dec_embeddings, start_of_sequence_id, end_of_sequence_id, \n",
    "        maximum_length, vocab_size)\n",
    "    inference_logits, _, _ = tf.contrib.seq2seq.dynamic_rnn_decoder(dec_cell, infer_decoder_fn, scope=decoding_scope)\n",
    "    \n",
    "    return inference_logits\n",
    "\n",
    "\n",
    "\n",
    "tests.test_decoding_layer_infer(decoding_layer_infer)"
   ]
  },
  {
   "cell_type": "markdown",
   "metadata": {
    "deletable": true,
    "editable": true
   },
   "source": [
    "### Build the Decoding Layer\n",
    "Implement `decoding_layer()` to create a Decoder RNN layer.\n",
    "\n",
    "- Create RNN cell for decoding using `rnn_size` and `num_layers`.\n",
    "- Create the output fuction using [`lambda`](https://docs.python.org/3/tutorial/controlflow.html#lambda-expressions) to transform it's input, logits, to class logits.\n",
    "- Use the our `decoding_layer_train(encoder_state, dec_cell, dec_embed_input, sequence_length, decoding_scope, output_fn, keep_prob)` function to get the training logits.\n",
    "- Use our `decoding_layer_infer(encoder_state, dec_cell, dec_embeddings, start_of_sequence_id, end_of_sequence_id, maximum_length, vocab_size, decoding_scope, output_fn, keep_prob)` function to get the inference logits.\n",
    "\n",
    "Note: We'll need to use [tf.variable_scope](https://www.tensorflow.org/api_docs/python/tf/variable_scope) to share variables between training and inference."
   ]
  },
  {
   "cell_type": "code",
   "execution_count": 10,
   "metadata": {
    "collapsed": false,
    "deletable": true,
    "editable": true
   },
   "outputs": [
    {
     "name": "stdout",
     "output_type": "stream",
     "text": [
      "Tests Passed\n"
     ]
    }
   ],
   "source": [
    "def decoding_layer(dec_embed_input, dec_embeddings, encoder_state, vocab_size, sequence_length, rnn_size,\n",
    "                   num_layers, target_vocab_to_int, keep_prob):\n",
    "    \"\"\"\n",
    "    Create decoding layer\n",
    "    :param dec_embed_input: Decoder embedded input\n",
    "    :param dec_embeddings: Decoder embeddings\n",
    "    :param encoder_state: The encoded state\n",
    "    :param vocab_size: Size of vocabulary\n",
    "    :param sequence_length: Sequence Length\n",
    "    :param rnn_size: RNN Size\n",
    "    :param num_layers: Number of layers\n",
    "    :param target_vocab_to_int: Dictionary to go from the target words to an id\n",
    "    :param keep_prob: Dropout keep probability\n",
    "    :return: Tuple of (Training Logits, Inference Logits)\n",
    "    \"\"\"\n",
    "    rnn = tf.contrib.rnn.BasicLSTMCell(rnn_size)\n",
    "    drop = tf.contrib.rnn.DropoutWrapper(rnn, output_keep_prob = keep_prob)\n",
    "    dec_cell = tf.contrib.rnn.MultiRNNCell([drop] * num_layers)\n",
    "    \n",
    "    with tf.variable_scope(\"decoding\") as decoding_scope:\n",
    "        # Output Layer\n",
    "        output_fn = lambda x: tf.contrib.layers.fully_connected(x, vocab_size, None, scope=decoding_scope)\n",
    "    \n",
    "    with tf.variable_scope(\"decoding\") as decoding_scope:\n",
    "        # Training Decoder\n",
    "        train_logits = decoding_layer_train(encoder_state, dec_cell, dec_embed_input, sequence_length, decoding_scope, output_fn, keep_prob) \n",
    "\n",
    "    \n",
    "    with tf.variable_scope(\"decoding\", reuse=True) as decoding_scope:\n",
    "        # Inference Decoder\n",
    "        inference_logits = decoding_layer_infer(encoder_state, dec_cell, dec_embeddings, target_vocab_to_int['<GO>'], \n",
    "                                 target_vocab_to_int['<EOS>'], sequence_length - 1, vocab_size, decoding_scope, output_fn, keep_prob)\n",
    "    \n",
    "    return train_logits, inference_logits\n",
    "\n",
    "\n",
    "\n",
    "tests.test_decoding_layer(decoding_layer)"
   ]
  },
  {
   "cell_type": "markdown",
   "metadata": {
    "deletable": true,
    "editable": true
   },
   "source": [
    "### Build the Neural Network\n",
    "Apply the functions we implemented above to:\n",
    "\n",
    "- Apply embedding to the input data for the encoder.\n",
    "- Encode the input using our `encoding_layer(rnn_inputs, rnn_size, num_layers, keep_prob)`.\n",
    "- Process target data using our `process_encoding_input(target_data, target_vocab_to_int, batch_size)` function.\n",
    "- Apply embedding to the target data for the decoder.\n",
    "- Decode the encoded input using our `decoding_layer(dec_embed_input, dec_embeddings, encoder_state, vocab_size, sequence_length, rnn_size, num_layers, target_vocab_to_int, keep_prob)`."
   ]
  },
  {
   "cell_type": "code",
   "execution_count": 11,
   "metadata": {
    "collapsed": false,
    "deletable": true,
    "editable": true
   },
   "outputs": [
    {
     "name": "stdout",
     "output_type": "stream",
     "text": [
      "Tests Passed\n"
     ]
    }
   ],
   "source": [
    "def seq2seq_model(input_data, target_data, keep_prob, batch_size, sequence_length, source_vocab_size, target_vocab_size,\n",
    "                  enc_embedding_size, dec_embedding_size, rnn_size, num_layers, target_vocab_to_int):\n",
    "    \"\"\"\n",
    "    Build the Sequence-to-Sequence part of the neural network\n",
    "    :param input_data: Input placeholder\n",
    "    :param target_data: Target placeholder\n",
    "    :param keep_prob: Dropout keep probability placeholder\n",
    "    :param batch_size: Batch Size\n",
    "    :param sequence_length: Sequence Length\n",
    "    :param source_vocab_size: Source vocabulary size\n",
    "    :param target_vocab_size: Target vocabulary size\n",
    "    :param enc_embedding_size: Decoder embedding size\n",
    "    :param dec_embedding_size: Encoder embedding size\n",
    "    :param rnn_size: RNN Size\n",
    "    :param num_layers: Number of layers\n",
    "    :param target_vocab_to_int: Dictionary to go from the target words to an id\n",
    "    :return: Tuple of (Training Logits, Inference Logits)\n",
    "    \"\"\"\n",
    "    enc_embed_input = tf.contrib.layers.embed_sequence(input_data, source_vocab_size, enc_embedding_size)\n",
    "    enc_state = encoding_layer(enc_embed_input, rnn_size, num_layers, keep_prob)\n",
    "    \n",
    "    dec_input = process_decoding_input(target_data, target_vocab_to_int, batch_size)\n",
    "    dec_embeddings = tf.Variable(tf.random_uniform([target_vocab_size, dec_embedding_size]))\n",
    "    dec_embed_input = tf.nn.embedding_lookup(dec_embeddings, dec_input)\n",
    "    \n",
    "    train_logits, inference_logits = decoding_layer(dec_embed_input, dec_embeddings, enc_state, target_vocab_size, \n",
    "                                                    sequence_length, rnn_size, num_layers, target_vocab_to_int, keep_prob)\n",
    "    \n",
    "    \n",
    "    return train_logits, inference_logits\n",
    "\n",
    "\n",
    "\n",
    "tests.test_seq2seq_model(seq2seq_model)"
   ]
  },
  {
   "cell_type": "markdown",
   "metadata": {
    "deletable": true,
    "editable": true
   },
   "source": [
    "## Neural Network Training\n",
    "### Hyperparameters\n",
    "Tune the following parameters:\n",
    "\n",
    "- Set `epochs` to the number of epochs.\n",
    "- Set `batch_size` to the batch size.\n",
    "- Set `rnn_size` to the size of the RNNs.\n",
    "- Set `num_layers` to the number of layers.\n",
    "- Set `encoding_embedding_size` to the size of the embedding for the encoder.\n",
    "- Set `decoding_embedding_size` to the size of the embedding for the decoder.\n",
    "- Set `learning_rate` to the learning rate.\n",
    "- Set `keep_probability` to the Dropout keep probability"
   ]
  },
  {
   "cell_type": "code",
   "execution_count": 12,
   "metadata": {
    "collapsed": true,
    "deletable": true,
    "editable": true
   },
   "outputs": [],
   "source": [
    "# Number of Epochs\n",
    "epochs = 30\n",
    "# Batch Size\n",
    "batch_size = 256\n",
    "# RNN Size\n",
    "rnn_size = 128\n",
    "# Number of Layers\n",
    "num_layers = 5\n",
    "# Embedding Size\n",
    "encoding_embedding_size = 128\n",
    "decoding_embedding_size = 128\n",
    "# Learning Rate\n",
    "learning_rate = 0.005\n",
    "# Dropout Keep Probability\n",
    "keep_probability = 0.8"
   ]
  },
  {
   "cell_type": "markdown",
   "metadata": {
    "deletable": true,
    "editable": true
   },
   "source": [
    "### Build the Graph\n",
    "Build the graph using the neural network we implemented."
   ]
  },
  {
   "cell_type": "code",
   "execution_count": 13,
   "metadata": {
    "collapsed": false,
    "deletable": true,
    "editable": true
   },
   "outputs": [],
   "source": [
    "save_path = 'checkpoints/dev'\n",
    "(source_int_text, target_int_text), (source_vocab_to_int, target_vocab_to_int), _ = helper.load_preprocess()\n",
    "max_target_sentence_length = max([len(sentence) for sentence in source_int_text])\n",
    "\n",
    "train_graph = tf.Graph()\n",
    "with train_graph.as_default():\n",
    "    input_data, targets, lr, keep_prob = model_inputs()\n",
    "    sequence_length = tf.placeholder_with_default(max_target_sentence_length, None, name='sequence_length')\n",
    "    input_shape = tf.shape(input_data)\n",
    "    \n",
    "    train_logits, inference_logits = seq2seq_model(\n",
    "        tf.reverse(input_data, [-1]), targets, keep_prob, batch_size, sequence_length, len(source_vocab_to_int), len(target_vocab_to_int),\n",
    "        encoding_embedding_size, decoding_embedding_size, rnn_size, num_layers, target_vocab_to_int)\n",
    "\n",
    "    tf.identity(inference_logits, 'logits')\n",
    "    with tf.name_scope(\"optimization\"):\n",
    "        # Loss function\n",
    "        cost = tf.contrib.seq2seq.sequence_loss(\n",
    "            train_logits,\n",
    "            targets,\n",
    "            tf.ones([input_shape[0], sequence_length]))\n",
    "\n",
    "        # Optimizer\n",
    "        optimizer = tf.train.AdamOptimizer(lr)\n",
    "\n",
    "        # Gradient Clipping\n",
    "        gradients = optimizer.compute_gradients(cost)\n",
    "        capped_gradients = [(tf.clip_by_value(grad, -1., 1.), var) for grad, var in gradients if grad is not None]\n",
    "        train_op = optimizer.apply_gradients(capped_gradients)"
   ]
  },
  {
   "cell_type": "markdown",
   "metadata": {
    "deletable": true,
    "editable": true
   },
   "source": [
    "### Train\n",
    "Train the neural network on the preprocessed data. If we have a hard time getting a good loss, check the forms to see if anyone is having the same problem."
   ]
  },
  {
   "cell_type": "code",
   "execution_count": 15,
   "metadata": {
    "collapsed": false,
    "deletable": true,
    "editable": true,
    "scrolled": true
   },
   "outputs": [
    {
     "name": "stdout",
     "output_type": "stream",
     "text": [
      "Epoch   0 Batch    0/538 - Train Accuracy:  0.237, Validation Accuracy:  0.319, Loss:  5.879\n",
      "Epoch   0 Batch  100/538 - Train Accuracy:  0.448, Validation Accuracy:  0.493, Loss:  2.175\n",
      "Epoch   0 Batch  200/538 - Train Accuracy:  0.456, Validation Accuracy:  0.501, Loss:  1.556\n",
      "Epoch   0 Batch  300/538 - Train Accuracy:  0.434, Validation Accuracy:  0.473, Loss:  1.144\n",
      "Epoch   0 Batch  400/538 - Train Accuracy:  0.468, Validation Accuracy:  0.516, Loss:  1.024\n",
      "Epoch   0 Batch  500/538 - Train Accuracy:  0.560, Validation Accuracy:  0.570, Loss:  0.872\n",
      "Epoch   1 Batch    0/538 - Train Accuracy:  0.499, Validation Accuracy:  0.547, Loss:  0.846\n",
      "Epoch   1 Batch  100/538 - Train Accuracy:  0.585, Validation Accuracy:  0.602, Loss:  0.759\n",
      "Epoch   1 Batch  200/538 - Train Accuracy:  0.614, Validation Accuracy:  0.621, Loss:  0.708\n",
      "Epoch   1 Batch  300/538 - Train Accuracy:  0.636, Validation Accuracy:  0.637, Loss:  0.641\n",
      "Epoch   1 Batch  400/538 - Train Accuracy:  0.611, Validation Accuracy:  0.635, Loss:  0.628\n",
      "Epoch   1 Batch  500/538 - Train Accuracy:  0.649, Validation Accuracy:  0.631, Loss:  0.538\n",
      "Epoch   2 Batch    0/538 - Train Accuracy:  0.630, Validation Accuracy:  0.652, Loss:  0.568\n",
      "Epoch   2 Batch  100/538 - Train Accuracy:  0.638, Validation Accuracy:  0.655, Loss:  0.586\n",
      "Epoch   2 Batch  200/538 - Train Accuracy:  0.681, Validation Accuracy:  0.676, Loss:  0.518\n",
      "Epoch   2 Batch  300/538 - Train Accuracy:  0.674, Validation Accuracy:  0.662, Loss:  0.489\n",
      "Epoch   2 Batch  400/538 - Train Accuracy:  0.683, Validation Accuracy:  0.681, Loss:  0.479\n",
      "Epoch   2 Batch  500/538 - Train Accuracy:  0.714, Validation Accuracy:  0.679, Loss:  0.435\n",
      "Epoch   3 Batch    0/538 - Train Accuracy:  0.692, Validation Accuracy:  0.673, Loss:  0.466\n",
      "Epoch   3 Batch  100/538 - Train Accuracy:  0.696, Validation Accuracy:  0.699, Loss:  0.449\n",
      "Epoch   3 Batch  200/538 - Train Accuracy:  0.699, Validation Accuracy:  0.692, Loss:  0.441\n",
      "Epoch   3 Batch  300/538 - Train Accuracy:  0.703, Validation Accuracy:  0.693, Loss:  0.419\n",
      "Epoch   3 Batch  400/538 - Train Accuracy:  0.722, Validation Accuracy:  0.707, Loss:  0.416\n",
      "Epoch   3 Batch  500/538 - Train Accuracy:  0.736, Validation Accuracy:  0.711, Loss:  0.370\n",
      "Epoch   4 Batch    0/538 - Train Accuracy:  0.709, Validation Accuracy:  0.706, Loss:  0.406\n",
      "Epoch   4 Batch  100/538 - Train Accuracy:  0.729, Validation Accuracy:  0.712, Loss:  0.386\n",
      "Epoch   4 Batch  200/538 - Train Accuracy:  0.718, Validation Accuracy:  0.721, Loss:  0.381\n",
      "Epoch   4 Batch  300/538 - Train Accuracy:  0.737, Validation Accuracy:  0.724, Loss:  0.354\n",
      "Epoch   4 Batch  400/538 - Train Accuracy:  0.755, Validation Accuracy:  0.742, Loss:  0.350\n",
      "Epoch   4 Batch  500/538 - Train Accuracy:  0.775, Validation Accuracy:  0.751, Loss:  0.309\n",
      "Epoch   5 Batch    0/538 - Train Accuracy:  0.732, Validation Accuracy:  0.736, Loss:  0.344\n",
      "Epoch   5 Batch  100/538 - Train Accuracy:  0.775, Validation Accuracy:  0.747, Loss:  0.317\n",
      "Epoch   5 Batch  200/538 - Train Accuracy:  0.762, Validation Accuracy:  0.754, Loss:  0.304\n",
      "Epoch   5 Batch  300/538 - Train Accuracy:  0.751, Validation Accuracy:  0.741, Loss:  0.301\n",
      "Epoch   5 Batch  400/538 - Train Accuracy:  0.773, Validation Accuracy:  0.765, Loss:  0.290\n",
      "Epoch   5 Batch  500/538 - Train Accuracy:  0.795, Validation Accuracy:  0.777, Loss:  0.259\n",
      "Epoch   6 Batch    0/538 - Train Accuracy:  0.786, Validation Accuracy:  0.782, Loss:  0.277\n",
      "Epoch   6 Batch  100/538 - Train Accuracy:  0.804, Validation Accuracy:  0.787, Loss:  0.259\n",
      "Epoch   6 Batch  200/538 - Train Accuracy:  0.792, Validation Accuracy:  0.799, Loss:  0.251\n",
      "Epoch   6 Batch  300/538 - Train Accuracy:  0.793, Validation Accuracy:  0.798, Loss:  0.238\n",
      "Epoch   6 Batch  400/538 - Train Accuracy:  0.783, Validation Accuracy:  0.783, Loss:  0.237\n",
      "Epoch   6 Batch  500/538 - Train Accuracy:  0.830, Validation Accuracy:  0.815, Loss:  0.207\n",
      "Epoch   7 Batch    0/538 - Train Accuracy:  0.810, Validation Accuracy:  0.822, Loss:  0.230\n",
      "Epoch   7 Batch  100/538 - Train Accuracy:  0.825, Validation Accuracy:  0.815, Loss:  0.215\n",
      "Epoch   7 Batch  200/538 - Train Accuracy:  0.806, Validation Accuracy:  0.819, Loss:  0.217\n",
      "Epoch   7 Batch  300/538 - Train Accuracy:  0.826, Validation Accuracy:  0.825, Loss:  0.216\n",
      "Epoch   7 Batch  400/538 - Train Accuracy:  0.822, Validation Accuracy:  0.832, Loss:  0.209\n",
      "Epoch   7 Batch  500/538 - Train Accuracy:  0.855, Validation Accuracy:  0.835, Loss:  0.184\n",
      "Epoch   8 Batch    0/538 - Train Accuracy:  0.847, Validation Accuracy:  0.830, Loss:  0.206\n",
      "Epoch   8 Batch  100/538 - Train Accuracy:  0.839, Validation Accuracy:  0.835, Loss:  0.194\n",
      "Epoch   8 Batch  200/538 - Train Accuracy:  0.845, Validation Accuracy:  0.835, Loss:  0.192\n",
      "Epoch   8 Batch  300/538 - Train Accuracy:  0.855, Validation Accuracy:  0.847, Loss:  0.192\n",
      "Epoch   8 Batch  400/538 - Train Accuracy:  0.856, Validation Accuracy:  0.850, Loss:  0.184\n",
      "Epoch   8 Batch  500/538 - Train Accuracy:  0.865, Validation Accuracy:  0.855, Loss:  0.162\n",
      "Epoch   9 Batch    0/538 - Train Accuracy:  0.862, Validation Accuracy:  0.841, Loss:  0.172\n",
      "Epoch   9 Batch  100/538 - Train Accuracy:  0.851, Validation Accuracy:  0.859, Loss:  0.173\n",
      "Epoch   9 Batch  200/538 - Train Accuracy:  0.861, Validation Accuracy:  0.863, Loss:  0.174\n",
      "Epoch   9 Batch  300/538 - Train Accuracy:  0.863, Validation Accuracy:  0.852, Loss:  0.169\n",
      "Epoch   9 Batch  400/538 - Train Accuracy:  0.855, Validation Accuracy:  0.865, Loss:  0.171\n",
      "Epoch   9 Batch  500/538 - Train Accuracy:  0.873, Validation Accuracy:  0.862, Loss:  0.148\n",
      "Epoch  10 Batch    0/538 - Train Accuracy:  0.877, Validation Accuracy:  0.868, Loss:  0.162\n",
      "Epoch  10 Batch  100/538 - Train Accuracy:  0.876, Validation Accuracy:  0.870, Loss:  0.155\n",
      "Epoch  10 Batch  200/538 - Train Accuracy:  0.863, Validation Accuracy:  0.859, Loss:  0.155\n",
      "Epoch  10 Batch  300/538 - Train Accuracy:  0.869, Validation Accuracy:  0.871, Loss:  0.159\n",
      "Epoch  10 Batch  400/538 - Train Accuracy:  0.866, Validation Accuracy:  0.872, Loss:  0.148\n",
      "Epoch  10 Batch  500/538 - Train Accuracy:  0.878, Validation Accuracy:  0.868, Loss:  0.132\n",
      "Epoch  11 Batch    0/538 - Train Accuracy:  0.875, Validation Accuracy:  0.863, Loss:  0.138\n",
      "Epoch  11 Batch  100/538 - Train Accuracy:  0.869, Validation Accuracy:  0.871, Loss:  0.134\n",
      "Epoch  11 Batch  200/538 - Train Accuracy:  0.877, Validation Accuracy:  0.871, Loss:  0.135\n",
      "Epoch  11 Batch  300/538 - Train Accuracy:  0.885, Validation Accuracy:  0.875, Loss:  0.132\n",
      "Epoch  11 Batch  400/538 - Train Accuracy:  0.874, Validation Accuracy:  0.878, Loss:  0.130\n",
      "Epoch  11 Batch  500/538 - Train Accuracy:  0.890, Validation Accuracy:  0.885, Loss:  0.110\n",
      "Epoch  12 Batch    0/538 - Train Accuracy:  0.890, Validation Accuracy:  0.874, Loss:  0.122\n",
      "Epoch  12 Batch  100/538 - Train Accuracy:  0.886, Validation Accuracy:  0.881, Loss:  0.118\n",
      "Epoch  12 Batch  200/538 - Train Accuracy:  0.879, Validation Accuracy:  0.871, Loss:  0.126\n",
      "Epoch  12 Batch  300/538 - Train Accuracy:  0.884, Validation Accuracy:  0.873, Loss:  0.121\n",
      "Epoch  12 Batch  400/538 - Train Accuracy:  0.879, Validation Accuracy:  0.879, Loss:  0.115\n",
      "Epoch  12 Batch  500/538 - Train Accuracy:  0.887, Validation Accuracy:  0.883, Loss:  0.102\n",
      "Epoch  13 Batch    0/538 - Train Accuracy:  0.895, Validation Accuracy:  0.887, Loss:  0.114\n",
      "Epoch  13 Batch  100/538 - Train Accuracy:  0.897, Validation Accuracy:  0.896, Loss:  0.107\n",
      "Epoch  13 Batch  200/538 - Train Accuracy:  0.886, Validation Accuracy:  0.898, Loss:  0.112\n",
      "Epoch  13 Batch  300/538 - Train Accuracy:  0.891, Validation Accuracy:  0.888, Loss:  0.115\n",
      "Epoch  13 Batch  400/538 - Train Accuracy:  0.879, Validation Accuracy:  0.891, Loss:  0.109\n",
      "Epoch  13 Batch  500/538 - Train Accuracy:  0.910, Validation Accuracy:  0.900, Loss:  0.097\n",
      "Epoch  14 Batch    0/538 - Train Accuracy:  0.896, Validation Accuracy:  0.893, Loss:  0.102\n",
      "Epoch  14 Batch  100/538 - Train Accuracy:  0.901, Validation Accuracy:  0.902, Loss:  0.103\n",
      "Epoch  14 Batch  200/538 - Train Accuracy:  0.897, Validation Accuracy:  0.894, Loss:  0.104\n",
      "Epoch  14 Batch  300/538 - Train Accuracy:  0.899, Validation Accuracy:  0.904, Loss:  0.106\n",
      "Epoch  14 Batch  400/538 - Train Accuracy:  0.895, Validation Accuracy:  0.895, Loss:  0.111\n",
      "Epoch  14 Batch  500/538 - Train Accuracy:  0.915, Validation Accuracy:  0.899, Loss:  0.095\n",
      "Epoch  15 Batch    0/538 - Train Accuracy:  0.903, Validation Accuracy:  0.895, Loss:  0.103\n",
      "Epoch  15 Batch  100/538 - Train Accuracy:  0.910, Validation Accuracy:  0.890, Loss:  0.097\n",
      "Epoch  15 Batch  200/538 - Train Accuracy:  0.891, Validation Accuracy:  0.884, Loss:  0.094\n",
      "Epoch  15 Batch  300/538 - Train Accuracy:  0.896, Validation Accuracy:  0.901, Loss:  0.109\n",
      "Epoch  15 Batch  400/538 - Train Accuracy:  0.895, Validation Accuracy:  0.907, Loss:  0.099\n",
      "Epoch  15 Batch  500/538 - Train Accuracy:  0.909, Validation Accuracy:  0.904, Loss:  0.092\n",
      "Epoch  16 Batch    0/538 - Train Accuracy:  0.904, Validation Accuracy:  0.899, Loss:  0.095\n",
      "Epoch  16 Batch  100/538 - Train Accuracy:  0.908, Validation Accuracy:  0.918, Loss:  0.085\n",
      "Epoch  16 Batch  200/538 - Train Accuracy:  0.912, Validation Accuracy:  0.897, Loss:  0.087\n",
      "Epoch  16 Batch  300/538 - Train Accuracy:  0.903, Validation Accuracy:  0.903, Loss:  0.088\n",
      "Epoch  16 Batch  400/538 - Train Accuracy:  0.905, Validation Accuracy:  0.895, Loss:  0.087\n",
      "Epoch  16 Batch  500/538 - Train Accuracy:  0.922, Validation Accuracy:  0.910, Loss:  0.076\n",
      "Epoch  17 Batch    0/538 - Train Accuracy:  0.905, Validation Accuracy:  0.908, Loss:  0.081\n",
      "Epoch  17 Batch  100/538 - Train Accuracy:  0.904, Validation Accuracy:  0.913, Loss:  0.077\n",
      "Epoch  17 Batch  200/538 - Train Accuracy:  0.919, Validation Accuracy:  0.912, Loss:  0.075\n",
      "Epoch  17 Batch  300/538 - Train Accuracy:  0.922, Validation Accuracy:  0.916, Loss:  0.079\n",
      "Epoch  17 Batch  400/538 - Train Accuracy:  0.919, Validation Accuracy:  0.926, Loss:  0.081\n",
      "Epoch  17 Batch  500/538 - Train Accuracy:  0.922, Validation Accuracy:  0.927, Loss:  0.069\n",
      "Epoch  18 Batch    0/538 - Train Accuracy:  0.917, Validation Accuracy:  0.915, Loss:  0.079\n",
      "Epoch  18 Batch  100/538 - Train Accuracy:  0.914, Validation Accuracy:  0.912, Loss:  0.071\n",
      "Epoch  18 Batch  200/538 - Train Accuracy:  0.924, Validation Accuracy:  0.915, Loss:  0.082\n",
      "Epoch  18 Batch  300/538 - Train Accuracy:  0.912, Validation Accuracy:  0.914, Loss:  0.082\n",
      "Epoch  18 Batch  400/538 - Train Accuracy:  0.926, Validation Accuracy:  0.914, Loss:  0.079\n",
      "Epoch  18 Batch  500/538 - Train Accuracy:  0.927, Validation Accuracy:  0.925, Loss:  0.066\n",
      "Epoch  19 Batch    0/538 - Train Accuracy:  0.924, Validation Accuracy:  0.915, Loss:  0.075\n",
      "Epoch  19 Batch  100/538 - Train Accuracy:  0.907, Validation Accuracy:  0.915, Loss:  0.076\n",
      "Epoch  19 Batch  200/538 - Train Accuracy:  0.930, Validation Accuracy:  0.922, Loss:  0.075\n",
      "Epoch  19 Batch  300/538 - Train Accuracy:  0.914, Validation Accuracy:  0.922, Loss:  0.078\n",
      "Epoch  19 Batch  400/538 - Train Accuracy:  0.914, Validation Accuracy:  0.922, Loss:  0.071\n",
      "Epoch  19 Batch  500/538 - Train Accuracy:  0.921, Validation Accuracy:  0.926, Loss:  0.063\n",
      "Epoch  20 Batch    0/538 - Train Accuracy:  0.914, Validation Accuracy:  0.922, Loss:  0.069\n",
      "Epoch  20 Batch  100/538 - Train Accuracy:  0.911, Validation Accuracy:  0.920, Loss:  0.071\n",
      "Epoch  20 Batch  200/538 - Train Accuracy:  0.927, Validation Accuracy:  0.923, Loss:  0.071\n",
      "Epoch  20 Batch  300/538 - Train Accuracy:  0.926, Validation Accuracy:  0.923, Loss:  0.075\n",
      "Epoch  20 Batch  400/538 - Train Accuracy:  0.918, Validation Accuracy:  0.929, Loss:  0.069\n",
      "Epoch  20 Batch  500/538 - Train Accuracy:  0.926, Validation Accuracy:  0.925, Loss:  0.059\n",
      "Epoch  21 Batch    0/538 - Train Accuracy:  0.916, Validation Accuracy:  0.921, Loss:  0.064\n",
      "Epoch  21 Batch  100/538 - Train Accuracy:  0.917, Validation Accuracy:  0.919, Loss:  0.063\n",
      "Epoch  21 Batch  200/538 - Train Accuracy:  0.928, Validation Accuracy:  0.926, Loss:  0.070\n",
      "Epoch  21 Batch  300/538 - Train Accuracy:  0.925, Validation Accuracy:  0.923, Loss:  0.067\n",
      "Epoch  21 Batch  400/538 - Train Accuracy:  0.915, Validation Accuracy:  0.930, Loss:  0.067\n",
      "Epoch  21 Batch  500/538 - Train Accuracy:  0.930, Validation Accuracy:  0.928, Loss:  0.067\n",
      "Epoch  22 Batch    0/538 - Train Accuracy:  0.920, Validation Accuracy:  0.931, Loss:  0.072\n",
      "Epoch  22 Batch  100/538 - Train Accuracy:  0.915, Validation Accuracy:  0.919, Loss:  0.067\n",
      "Epoch  22 Batch  200/538 - Train Accuracy:  0.932, Validation Accuracy:  0.926, Loss:  0.063\n",
      "Epoch  22 Batch  300/538 - Train Accuracy:  0.922, Validation Accuracy:  0.928, Loss:  0.075\n",
      "Epoch  22 Batch  400/538 - Train Accuracy:  0.931, Validation Accuracy:  0.926, Loss:  0.073\n",
      "Epoch  22 Batch  500/538 - Train Accuracy:  0.938, Validation Accuracy:  0.935, Loss:  0.054\n",
      "Epoch  23 Batch    0/538 - Train Accuracy:  0.918, Validation Accuracy:  0.928, Loss:  0.063\n",
      "Epoch  23 Batch  100/538 - Train Accuracy:  0.910, Validation Accuracy:  0.928, Loss:  0.066\n",
      "Epoch  23 Batch  200/538 - Train Accuracy:  0.923, Validation Accuracy:  0.920, Loss:  0.062\n",
      "Epoch  23 Batch  300/538 - Train Accuracy:  0.921, Validation Accuracy:  0.933, Loss:  0.070\n",
      "Epoch  23 Batch  400/538 - Train Accuracy:  0.932, Validation Accuracy:  0.923, Loss:  0.063\n",
      "Epoch  23 Batch  500/538 - Train Accuracy:  0.930, Validation Accuracy:  0.931, Loss:  0.056\n",
      "Epoch  24 Batch    0/538 - Train Accuracy:  0.922, Validation Accuracy:  0.929, Loss:  0.066\n",
      "Epoch  24 Batch  100/538 - Train Accuracy:  0.916, Validation Accuracy:  0.921, Loss:  0.063\n",
      "Epoch  24 Batch  200/538 - Train Accuracy:  0.929, Validation Accuracy:  0.927, Loss:  0.062\n",
      "Epoch  24 Batch  300/538 - Train Accuracy:  0.927, Validation Accuracy:  0.926, Loss:  0.064\n",
      "Epoch  24 Batch  400/538 - Train Accuracy:  0.928, Validation Accuracy:  0.923, Loss:  0.069\n",
      "Epoch  24 Batch  500/538 - Train Accuracy:  0.930, Validation Accuracy:  0.935, Loss:  0.053\n",
      "Epoch  25 Batch    0/538 - Train Accuracy:  0.921, Validation Accuracy:  0.935, Loss:  0.068\n",
      "Epoch  25 Batch  100/538 - Train Accuracy:  0.906, Validation Accuracy:  0.930, Loss:  0.061\n",
      "Epoch  25 Batch  200/538 - Train Accuracy:  0.933, Validation Accuracy:  0.936, Loss:  0.059\n",
      "Epoch  25 Batch  300/538 - Train Accuracy:  0.923, Validation Accuracy:  0.928, Loss:  0.069\n",
      "Epoch  25 Batch  400/538 - Train Accuracy:  0.926, Validation Accuracy:  0.930, Loss:  0.060\n",
      "Epoch  25 Batch  500/538 - Train Accuracy:  0.936, Validation Accuracy:  0.934, Loss:  0.052\n",
      "Epoch  26 Batch    0/538 - Train Accuracy:  0.923, Validation Accuracy:  0.930, Loss:  0.063\n",
      "Epoch  26 Batch  100/538 - Train Accuracy:  0.918, Validation Accuracy:  0.930, Loss:  0.072\n",
      "Epoch  26 Batch  200/538 - Train Accuracy:  0.934, Validation Accuracy:  0.936, Loss:  0.060\n",
      "Epoch  26 Batch  300/538 - Train Accuracy:  0.927, Validation Accuracy:  0.929, Loss:  0.059\n",
      "Epoch  26 Batch  400/538 - Train Accuracy:  0.931, Validation Accuracy:  0.933, Loss:  0.064\n",
      "Epoch  26 Batch  500/538 - Train Accuracy:  0.936, Validation Accuracy:  0.937, Loss:  0.053\n",
      "Epoch  27 Batch    0/538 - Train Accuracy:  0.915, Validation Accuracy:  0.932, Loss:  0.061\n",
      "Epoch  27 Batch  100/538 - Train Accuracy:  0.912, Validation Accuracy:  0.932, Loss:  0.062\n",
      "Epoch  27 Batch  200/538 - Train Accuracy:  0.935, Validation Accuracy:  0.931, Loss:  0.066\n",
      "Epoch  27 Batch  300/538 - Train Accuracy:  0.930, Validation Accuracy:  0.932, Loss:  0.067\n",
      "Epoch  27 Batch  400/538 - Train Accuracy:  0.934, Validation Accuracy:  0.935, Loss:  0.064\n",
      "Epoch  27 Batch  500/538 - Train Accuracy:  0.933, Validation Accuracy:  0.937, Loss:  0.047\n",
      "Epoch  28 Batch    0/538 - Train Accuracy:  0.926, Validation Accuracy:  0.928, Loss:  0.063\n",
      "Epoch  28 Batch  100/538 - Train Accuracy:  0.928, Validation Accuracy:  0.935, Loss:  0.059\n",
      "Epoch  28 Batch  200/538 - Train Accuracy:  0.933, Validation Accuracy:  0.931, Loss:  0.062\n",
      "Epoch  28 Batch  300/538 - Train Accuracy:  0.930, Validation Accuracy:  0.924, Loss:  0.057\n",
      "Epoch  28 Batch  400/538 - Train Accuracy:  0.928, Validation Accuracy:  0.925, Loss:  0.057\n",
      "Epoch  28 Batch  500/538 - Train Accuracy:  0.939, Validation Accuracy:  0.942, Loss:  0.048\n",
      "Epoch  29 Batch    0/538 - Train Accuracy:  0.927, Validation Accuracy:  0.938, Loss:  0.056\n",
      "Epoch  29 Batch  100/538 - Train Accuracy:  0.915, Validation Accuracy:  0.931, Loss:  0.052\n",
      "Epoch  29 Batch  200/538 - Train Accuracy:  0.931, Validation Accuracy:  0.934, Loss:  0.063\n",
      "Epoch  29 Batch  300/538 - Train Accuracy:  0.931, Validation Accuracy:  0.928, Loss:  0.062\n",
      "Epoch  29 Batch  400/538 - Train Accuracy:  0.932, Validation Accuracy:  0.936, Loss:  0.067\n",
      "Epoch  29 Batch  500/538 - Train Accuracy:  0.940, Validation Accuracy:  0.933, Loss:  0.049\n",
      "Model Trained and Saved\n"
     ]
    }
   ],
   "source": [
    "import time\n",
    "\n",
    "def get_accuracy(target, logits):\n",
    "    \"\"\"\n",
    "    Calculate accuracy\n",
    "    \"\"\"\n",
    "    max_seq = max(target.shape[1], logits.shape[1])\n",
    "    if max_seq - target.shape[1]:\n",
    "        target = np.pad(\n",
    "            target_batch,\n",
    "            [(0,0),(0,max_seq - target_batch.shape[1]), (0,0)],\n",
    "            'constant')\n",
    "    if max_seq - batch_train_logits.shape[1]:\n",
    "        logits = np.pad(\n",
    "            logits,\n",
    "            [(0,0),(0,max_seq - logits.shape[1]), (0,0)],\n",
    "            'constant')\n",
    "\n",
    "    return np.mean(np.equal(target, np.argmax(logits, 2)))\n",
    "\n",
    "train_source = source_int_text[batch_size:]\n",
    "train_target = target_int_text[batch_size:]\n",
    "\n",
    "valid_source = helper.pad_sentence_batch(source_int_text[:batch_size])\n",
    "valid_target = helper.pad_sentence_batch(target_int_text[:batch_size])\n",
    "\n",
    "with tf.Session(graph=train_graph) as sess:\n",
    "    sess.run(tf.global_variables_initializer())\n",
    "\n",
    "    for epoch_i in range(epochs):\n",
    "        for batch_i, (source_batch, target_batch) in enumerate(\n",
    "                helper.batch_data(train_source, train_target, batch_size)):\n",
    "            start_time = time.time()\n",
    "            \n",
    "            _, loss = sess.run(\n",
    "                [train_op, cost],\n",
    "                {input_data: source_batch,\n",
    "                 targets: target_batch,\n",
    "                 lr: learning_rate,\n",
    "                 sequence_length: target_batch.shape[1],\n",
    "                 keep_prob: keep_probability})\n",
    "            \n",
    "            batch_train_logits = sess.run(\n",
    "                inference_logits,\n",
    "                {input_data: source_batch, keep_prob: 1.0})\n",
    "            batch_valid_logits = sess.run(\n",
    "                inference_logits,\n",
    "                {input_data: valid_source, keep_prob: 1.0})\n",
    "                \n",
    "            train_acc = get_accuracy(target_batch, batch_train_logits)\n",
    "            valid_acc = get_accuracy(np.array(valid_target), batch_valid_logits)\n",
    "            end_time = time.time()\n",
    "            if batch_i % 100 == 0:\n",
    "                print('Epoch {:>3} Batch {:>4}/{} - Train Accuracy: {:>6.3f}, Validation Accuracy: {:>6.3f}, Loss: {:>6.3f}'\n",
    "                      .format(epoch_i, batch_i, len(source_int_text) // batch_size, train_acc, valid_acc, loss))\n",
    "\n",
    "    # Save Model\n",
    "    saver = tf.train.Saver()\n",
    "    saver.save(sess, save_path)\n",
    "    print('Model Trained and Saved')"
   ]
  },
  {
   "cell_type": "markdown",
   "metadata": {
    "deletable": true,
    "editable": true
   },
   "source": [
    "### Save Parameters\n",
    "Save the `batch_size` and `save_path` parameters for inference."
   ]
  },
  {
   "cell_type": "code",
   "execution_count": 16,
   "metadata": {
    "collapsed": false,
    "deletable": true,
    "editable": true
   },
   "outputs": [],
   "source": [
    "# Save parameters for checkpoint\n",
    "helper.save_params(save_path)"
   ]
  },
  {
   "cell_type": "markdown",
   "metadata": {
    "deletable": true,
    "editable": true
   },
   "source": [
    "# Checkpoint"
   ]
  },
  {
   "cell_type": "code",
   "execution_count": 1,
   "metadata": {
    "collapsed": false,
    "deletable": true,
    "editable": true
   },
   "outputs": [],
   "source": [
    "import tensorflow as tf\n",
    "import numpy as np\n",
    "import helper\n",
    "import problem_unittests as tests\n",
    "\n",
    "_, (source_vocab_to_int, target_vocab_to_int), (source_int_to_vocab, target_int_to_vocab) = helper.load_preprocess()\n",
    "load_path = helper.load_params()"
   ]
  },
  {
   "cell_type": "markdown",
   "metadata": {
    "deletable": true,
    "editable": true
   },
   "source": [
    "## Sentence to Sequence\n",
    "To feed a sentence into the model for translation, we first need to preprocess it.  Implement the function `sentence_to_seq()` to preprocess new sentences.\n",
    "\n",
    "- Convert the sentence to lowercase\n",
    "- Convert words into ids using `vocab_to_int`\n",
    " - Convert words not in the vocabulary, to the `<UNK>` word id."
   ]
  },
  {
   "cell_type": "code",
   "execution_count": 5,
   "metadata": {
    "collapsed": false,
    "deletable": true,
    "editable": true
   },
   "outputs": [
    {
     "name": "stdout",
     "output_type": "stream",
     "text": [
      "Tests Passed\n"
     ]
    }
   ],
   "source": [
    "def sentence_to_seq(sentence, vocab_to_int):\n",
    "    \"\"\"\n",
    "    Convert a sentence to a sequence of ids\n",
    "    :param sentence: String\n",
    "    :param vocab_to_int: Dictionary to go from the words to an id\n",
    "    :return: List of word ids\n",
    "    \"\"\"\n",
    "    word_ids = []\n",
    "    for word in sentence.lower().split(\" \"):\n",
    "        if word in vocab_to_int:\n",
    "            word_ids.append(vocab_to_int[word])\n",
    "        else:\n",
    "            word_ids.append(vocab_to_int['<UNK>'])\n",
    "    \n",
    "    return word_ids\n",
    "\n",
    "\n",
    "\n",
    "tests.test_sentence_to_seq(sentence_to_seq)"
   ]
  },
  {
   "cell_type": "markdown",
   "metadata": {
    "deletable": true,
    "editable": true
   },
   "source": [
    "## Translate\n",
    "This will translate `translate_sentence` from English to French."
   ]
  },
  {
   "cell_type": "code",
   "execution_count": 6,
   "metadata": {
    "collapsed": false,
    "deletable": true,
    "editable": true
   },
   "outputs": [
    {
     "name": "stdout",
     "output_type": "stream",
     "text": [
      "Input\n",
      "  Word Ids:      [24, 194, 99, 49, 182, 186, 171]\n",
      "  English Words: ['he', 'saw', 'a', 'old', 'yellow', 'truck', '.']\n",
      "\n",
      "Prediction\n",
      "  Word Ids:      [53, 200, 211, 186, 287, 159, 281, 228, 1]\n",
      "  French Words: ['il', 'a', 'vu', 'une', 'vieille', 'voiture', 'rouge', '.', '<EOS>']\n"
     ]
    }
   ],
   "source": [
    "translate_sentence = 'he saw a old yellow truck .'\n",
    "\n",
    "\n",
    "translate_sentence = sentence_to_seq(translate_sentence, source_vocab_to_int)\n",
    "\n",
    "loaded_graph = tf.Graph()\n",
    "with tf.Session(graph=loaded_graph) as sess:\n",
    "    # Load saved model\n",
    "    loader = tf.train.import_meta_graph(load_path + '.meta')\n",
    "    loader.restore(sess, load_path)\n",
    "\n",
    "    input_data = loaded_graph.get_tensor_by_name('input:0')\n",
    "    logits = loaded_graph.get_tensor_by_name('logits:0')\n",
    "    keep_prob = loaded_graph.get_tensor_by_name('keep_prob:0')\n",
    "\n",
    "    translate_logits = sess.run(logits, {input_data: [translate_sentence], keep_prob: 1.0})[0]\n",
    "\n",
    "print('Input')\n",
    "print('  Word Ids:      {}'.format([i for i in translate_sentence]))\n",
    "print('  English Words: {}'.format([source_int_to_vocab[i] for i in translate_sentence]))\n",
    "\n",
    "print('\\nPrediction')\n",
    "print('  Word Ids:      {}'.format([i for i in np.argmax(translate_logits, 1)]))\n",
    "print('  French Words: {}'.format([target_int_to_vocab[i] for i in np.argmax(translate_logits, 1)]))"
   ]
  },
  {
   "cell_type": "markdown",
   "metadata": {
    "deletable": true,
    "editable": true
   },
   "source": [
    "## Imperfect Translation\n",
    "We might notice that some sentences translate better than others.  Since the dataset we're using only has a vocabulary of 227 English words of the thousands that we use, we're only going to see good results using these words.  For this project, we don't need a perfect translation. However, if we want to create a better translation model, we'll need better data.\n",
    "\n",
    "We can train on the [WMT10 French-English corpus](http://www.statmt.org/wmt10/training-giga-fren.tar).  This dataset has more vocabulary and richer in topics discussed.  However, this will take we days to train, so make sure we've a GPU and the neural network is performing well on dataset we provided.  Just make sure we play with the WMT10 corpus after we've submitted this project."
   ]
  }
 ],
 "metadata": {
  "kernelspec": {
   "display_name": "Python 3",
   "language": "python",
   "name": "python3"
  },
  "language_info": {
   "codemirror_mode": {
    "name": "ipython",
    "version": 3
   },
   "file_extension": ".py",
   "mimetype": "text/x-python",
   "name": "python",
   "nbconvert_exporter": "python",
   "pygments_lexer": "ipython3",
   "version": "3.5.2"
  }
 },
 "nbformat": 4,
 "nbformat_minor": 0
}
